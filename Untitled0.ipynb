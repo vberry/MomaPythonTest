{
  "nbformat": 4,
  "nbformat_minor": 0,
  "metadata": {
    "colab": {
      "name": "Untitled0.ipynb",
      "provenance": [],
      "collapsed_sections": [],
      "authorship_tag": "ABX9TyNaKnt5wGj6HCcAqredm03R",
      "include_colab_link": true
    },
    "kernelspec": {
      "name": "python3",
      "display_name": "Python 3"
    },
    "language_info": {
      "name": "python"
    }
  },
  "cells": [
    {
      "cell_type": "markdown",
      "metadata": {
        "id": "view-in-github",
        "colab_type": "text"
      },
      "source": [
        "<a href=\"https://colab.research.google.com/github/vberry/MomaPythonTest/blob/main/Untitled0.ipynb\" target=\"_parent\"><img src=\"https://colab.research.google.com/assets/colab-badge.svg\" alt=\"Open In Colab\"/></a>"
      ]
    },
    {
      "cell_type": "markdown",
      "source": [
        "Voici un exemple de code"
      ],
      "metadata": {
        "id": "rO9UwX7Roqi_"
      }
    },
    {
      "cell_type": "code",
      "execution_count": 2,
      "metadata": {
        "id": "49ACZpi1omZl",
        "colab": {
          "base_uri": "https://localhost:8080/"
        },
        "outputId": "f8d23a58-2a0d-4336-e547-a09328c3fc0e"
      },
      "outputs": [
        {
          "output_type": "stream",
          "name": "stdout",
          "text": [
            "coucou\n",
            "v2\n"
          ]
        }
      ],
      "source": [
        "# voici un petit debut\n",
        "print(\"coucou\")\n",
        "\n",
        "print('v2')\n",
        "a=2"
      ]
    },
    {
      "cell_type": "markdown",
      "source": [
        "# Chapitre 1"
      ],
      "metadata": {
        "id": "mBz2VPtoqwEk"
      }
    },
    {
      "cell_type": "markdown",
      "source": [
        "un contenu de chapitre ici\n"
      ],
      "metadata": {
        "id": "xKeB12_coqb5"
      }
    },
    {
      "cell_type": "code",
      "source": [
        "print(a)\n",
        "with open(\"mes fichiers/instructors.md\") or die(\"souci d'ouverture\") as f:\n",
        "  l = f.readlines()\n",
        "  print(l)"
      ],
      "metadata": {
        "colab": {
          "base_uri": "https://localhost:8080/"
        },
        "id": "F9lOSDvcrpTR",
        "outputId": "53472e3f-0d0f-4359-c4b3-bb94d9a6482b"
      },
      "execution_count": 8,
      "outputs": [
        {
          "output_type": "stream",
          "name": "stdout",
          "text": [
            "2\n",
            "['\\n', \"## What's the purpose and history of this tool?\\n\", '\\n', 'ShellOnYou is a tool to help learners acquire practical skills on Unix systems. \\n', 'It proposes you, as an instructor, to choose or create hands on activities on the Unix Command Line Interface (CLI).\\n', '\\n', 'As instructors ourselves, we created this tool to overtake constraints we were facing and help our students grow in skill. We had (and still have) very few tuition hours to focus on the Unix system, which is however inescapable in Computer Science. Yet, this is a topic with which students are not familiar when reaching college and university. Moreover, our students\\n', 'have highly heterogeneous previous knowledge in IT and CS, coming from various backgrounds and education systems. We needed a tool that could adapt each student \\n', 'and act as a catalyst to foster peer cooperation and emulation. \\n', '\\n', '## Some characteristics\\n', '\\n', 'This tool has several advantages that surveyed students mention:\\n', '- it it available anytime, and anywhere a connection is available\\n', '- it gives them immediate feedback on their propositions to solve assigned tasks \\n', '- it suggestd them others ways to solve the tasks, challenging even the most knowledgeable students\\n', '- it offers the possibility to submit as many answers as they want (in a limited or unlimited time period, depending on the session set by their instructor)\\n', '- it gives them a score to compete, and kind of a game-like experience (some strive to reach a 100% score, which the large majority of them achieve in the end)\\n', '- it really helps them grow in practical skills on the Unix system\\n', '- it provides an opportunity to exchange between peers (we do encourage collaboration when presenting them with the tool)\\n', '\\n', '## _\"Hey, I\\'m an instructor\"_\\n', '\\n', 'Well no problem, so are we! By default anyone registering on the tool get a _student_ account, meaning you can register to an existing session and do the proposed exercises. \\n', 'Btw, this is an opportunity to experience it as students do. \\n', '\\n', \"To be able to organize sessions by yourself for your students, you need to have the _instructor_ role on the app. You the `ShellOnYou.fr` instance of the tool (yes, there can be several instances), you get this role by contacting us with your institutional address and a link to your web page or providing us with some kind of proof you're not a student. \\n\", '\\n', 'Note that the tool only provides exercises and ways to use them or ways to create more. It does not provide Unix lessons nor course notes on that topic: we trust you on that. The tool is meant as a companion for a Unix course. Of particular importance is the fact that you introduce your students with archives (`.tar.gz` files), as knowledge on this point is a prerequisite for students to use the tool. In the near future we will provide on this site a small introductory video on that topic as an additional assistance for students.\\n', '\\n', '\\n', '## Your turn now\\n', '\\n', 'Now the tool is yours to try, to use and to grow! \\n', \"A warning though: _this_ instance of _ShellOnYou_ was tested for several dozen students using it at various moments during days (and nights, they're crazy! :-). So be careful in trying it with several hundreds or thousands, it might no stand it. We're currently refactoring its archicture to allow it to handle much more students (we have to, as we'll be soon using it with a few hundreds).\\n\", '\\n', \"If you plan to use it with your students without being hampered by the load generated by students from other institutions, you'd better get your own copy of the tool and run it on your servers. Do not hesitate to ask us, the tool is free to get and use. \\n\", '\\n', '_ShellOnYou_ is also a place where instructors can share exercises. \\n', 'Though we expose only a small number of exercises at the moment (because we spend quite some  time on improving the tool itself ;-), there are many topics of Unix systems that remain to be explored through dedicated exercises. Help us in providing more exercises, and hence covering more ground for all our students. Thanks.\\n', '\\n', '\\n']\n"
          ]
        }
      ]
    },
    {
      "cell_type": "markdown",
      "source": [
        "Ici un lien pour récupérer un [fichier de données](https://support.staffbase.com/hc/en-us/article_attachments/360009197031/username.csv)."
      ],
      "metadata": {
        "id": "jdeIElbXtmtv"
      }
    }
  ]
}