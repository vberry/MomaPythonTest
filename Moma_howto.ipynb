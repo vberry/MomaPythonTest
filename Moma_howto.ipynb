{
  "nbformat": 4,
  "nbformat_minor": 0,
  "metadata": {
    "colab": {
      "name": "Moma-howto.ipynb",
      "provenance": [],
      "collapsed_sections": [],
      "private_outputs": true,
      "authorship_tag": "ABX9TyP4vYc6gchUeAZcX3qezfgr",
      "include_colab_link": true
    },
    "kernelspec": {
      "name": "python3",
      "display_name": "Python 3"
    },
    "language_info": {
      "name": "python"
    },
    "gpuClass": "standard"
  },
  "cells": [
    {
      "cell_type": "markdown",
      "metadata": {
        "id": "view-in-github",
        "colab_type": "text"
      },
      "source": [
        "<a href=\"https://colab.research.google.com/github/vberry/MomaPythonTest/blob/main/Moma_howto.ipynb\" target=\"_parent\"><img src=\"https://colab.research.google.com/assets/colab-badge.svg\" alt=\"Open In Colab\"/></a>"
      ]
    },
    {
      "cell_type": "markdown",
      "source": [
        "Voici un exemple de code"
      ],
      "metadata": {
        "id": "rO9UwX7Roqi_"
      }
    },
    {
      "cell_type": "code",
      "execution_count": null,
      "metadata": {
        "id": "49ACZpi1omZl"
      },
      "outputs": [],
      "source": [
        "# voici un petit debut\n",
        "print(\"coucou\")\n",
        "\n",
        "print('v2')\n",
        "a=2"
      ]
    },
    {
      "cell_type": "markdown",
      "source": [
        "# Chapitre 1"
      ],
      "metadata": {
        "id": "mBz2VPtoqwEk"
      }
    },
    {
      "cell_type": "markdown",
      "source": [
        "un contenu de chapitre ici. Les titres ci-dessus sont retrouvables dans un sommaire dispo par une icone \"*items*\" de la barre de gauche dans la fenêtre\n"
      ],
      "metadata": {
        "id": "xKeB12_coqb5"
      }
    },
    {
      "cell_type": "code",
      "source": [
        "print(a)\n",
        "with open(\"sample_data/california_housing_test.csv\") or die(\"souci d'ouverture\") as f:\n",
        "  l = f.readlines()\n",
        "  print(l)"
      ],
      "metadata": {
        "id": "F9lOSDvcrpTR"
      },
      "execution_count": null,
      "outputs": []
    },
    {
      "cell_type": "markdown",
      "source": [
        "Ici un lien pour récupérer un [fichier de données](https://support.staffbase.com/hc/en-us/article_attachments/360009197031/username.csv).\n",
        "\n",
        "**ATTENTION CE FICHIER EN LIEN CI-DESSUS n'a pas l'air OK**\n",
        "\n",
        "Une fois cliqué sur le lien ci-dessus, le fichier s'enregistre sur votre machine. Il faut maintenant le charger dans la page web nous permettant de faire du python (sur *Colaboratory* donc).\n",
        "Pour cela, cliquez sur l'icone dossier (gauche de la page) et cliquez avec le bouton droit sur le dossier s'appelant *sample_data*, et choisissez *Importer* puis indiquez le fichier que vous avez téléchargé précédemment : il se charge alors sur Colaboratory."
      ],
      "metadata": {
        "id": "jdeIElbXtmtv"
      }
    },
    {
      "cell_type": "markdown",
      "source": [
        "En plus en double-cliquant le fichier de type CSV, *Colab* nous montre sur la droite son contenu bien formaté et tout et tout 🥰"
      ],
      "metadata": {
        "id": "dZDCTO3dvihS"
      }
    }
  ]
}